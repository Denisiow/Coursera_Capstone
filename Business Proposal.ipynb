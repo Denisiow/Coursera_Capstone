{
    "cells": [
        {
            "cell_type": "markdown",
            "metadata": {
                "collapsed": true
            },
            "source": "# The Battle of Neighborhoods\n### Business Proposal"
        },
        {
            "cell_type": "markdown",
            "metadata": {},
            "source": "In this project we'll try to figure out which neighborhoods in Broklyn, NY are the best to establish a bakery/coffee shop. We'll focus on the neighborhoods where bakeries are not a common place and are not near the beach."
        },
        {
            "cell_type": "markdown",
            "metadata": {},
            "source": "### Location"
        },
        {
            "cell_type": "markdown",
            "metadata": {},
            "source": "Brooklyn is the most populous borough in New York City and is known for its cultural, social, and ethnic diversity, and for its distinct neighborhoods. For this reasons Brooklyn is a great place to establish our business."
        },
        {
            "cell_type": "markdown",
            "metadata": {},
            "source": "### Foursquare API"
        },
        {
            "cell_type": "markdown",
            "metadata": {},
            "source": "This project would use Four-square API as its prime data gathering source as it has a database of millions of places, especially their places API which provides the ability to perform location search, location sharing and details about a business."
        },
        {
            "cell_type": "markdown",
            "metadata": {},
            "source": "### Libraries used"
        },
        {
            "cell_type": "markdown",
            "metadata": {},
            "source": "**Pandas:** For creating and manipulating dataframes.\n\n**Folium:** Python visualization library would be used to visualize the neighborhoods cluster distribution or using interactive leaflet map.\n\n**JSON:** Library to handle JSON files.\n\n**Geocoder:** To retrieve Location Data.\n\n**Matplotlib:** Python Plotting Module.\n"
        }
    ],
    "metadata": {
        "kernelspec": {
            "display_name": "Python 3.7",
            "language": "python",
            "name": "python3"
        },
        "language_info": {
            "codemirror_mode": {
                "name": "ipython",
                "version": 3
            },
            "file_extension": ".py",
            "mimetype": "text/x-python",
            "name": "python",
            "nbconvert_exporter": "python",
            "pygments_lexer": "ipython3",
            "version": "3.7.9"
        }
    },
    "nbformat": 4,
    "nbformat_minor": 1
}